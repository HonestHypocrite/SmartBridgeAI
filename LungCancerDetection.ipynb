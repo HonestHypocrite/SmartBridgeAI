{
 "cells": [
  {
   "cell_type": "code",
   "execution_count": 1,
   "id": "74f5b1f1",
   "metadata": {},
   "outputs": [],
   "source": [
    "from keras.models import Sequential\n",
    "from keras.layers import Dense\n",
    "from keras.layers import Convolution2D\n",
    "from keras.layers import MaxPooling2D\n",
    "from keras.layers import Flatten"
   ]
  },
  {
   "cell_type": "code",
   "execution_count": 2,
   "id": "8f4bad4d",
   "metadata": {},
   "outputs": [],
   "source": [
    "from keras.preprocessing.image import ImageDataGenerator\n",
    "train_datagen = ImageDataGenerator(rescale = 1./255,shear_range = 0.2,zoom_range = 0.2,horizontal_flip = True)\n",
    "test_datagen = ImageDataGenerator(rescale = 1./255)"
   ]
  },
  {
   "cell_type": "code",
   "execution_count": 4,
   "id": "6d452dce",
   "metadata": {},
   "outputs": [
    {
     "name": "stdout",
     "output_type": "stream",
     "text": [
      "Found 102 images belonging to 2 classes.\n",
      "Found 40 images belonging to 2 classes.\n"
     ]
    }
   ],
   "source": [
    "x_train = train_datagen.flow_from_directory(\n",
    "    r'C:\\Users\\Sameer Bishnoi\\Downloads\\Lung Cancer Disease Prediction\\Lungcancer\\trainset'\n",
    "    ,target_size = (64,64),batch_size = 32 ,\n",
    "    class_mode = 'binary',color_mode=\"grayscale\")\n",
    "x_test = test_datagen.flow_from_directory(\n",
    "    r'C:\\Users\\Sameer Bishnoi\\Downloads\\Lung Cancer Disease Prediction\\Lungcancer\\testset',\n",
    "    target_size = (64,64),batch_size = 32 , \n",
    "    class_mode = 'binary',color_mode=\"grayscale\")"
   ]
  },
  {
   "cell_type": "code",
   "execution_count": 5,
   "id": "50614a82",
   "metadata": {},
   "outputs": [
    {
     "name": "stdout",
     "output_type": "stream",
     "text": [
      "{'Cancer': 0, 'NonCancer': 1}\n"
     ]
    }
   ],
   "source": [
    "print(x_train.class_indices)"
   ]
  },
  {
   "cell_type": "code",
   "execution_count": 6,
   "id": "9f51dd9d",
   "metadata": {},
   "outputs": [],
   "source": [
    "model = Sequential()"
   ]
  },
  {
   "cell_type": "code",
   "execution_count": 7,
   "id": "afec1349",
   "metadata": {},
   "outputs": [],
   "source": [
    "model.add(Convolution2D(32,(3,3), input_shape = (64,64,1),activation = \"relu\"))"
   ]
  },
  {
   "cell_type": "code",
   "execution_count": 8,
   "id": "0dcbcfd8",
   "metadata": {},
   "outputs": [],
   "source": [
    "model.add(MaxPooling2D(pool_size = (2,2)))"
   ]
  },
  {
   "cell_type": "code",
   "execution_count": 9,
   "id": "a4301d2e",
   "metadata": {},
   "outputs": [],
   "source": [
    "model.add(Flatten())"
   ]
  },
  {
   "cell_type": "code",
   "execution_count": 11,
   "id": "0412a1dc",
   "metadata": {},
   "outputs": [],
   "source": [
    "model.add(Dense(units = 128,kernel_initializer = \"random_uniform\",activation = \"relu\"))"
   ]
  },
  {
   "cell_type": "code",
   "execution_count": 12,
   "id": "1b58b972",
   "metadata": {},
   "outputs": [],
   "source": [
    "model.add(Dense(units = 1,kernel_initializer = \"random_uniform\",activation = \"sigmoid\"))"
   ]
  },
  {
   "cell_type": "code",
   "execution_count": 13,
   "id": "c2dc13a2",
   "metadata": {},
   "outputs": [],
   "source": [
    "model.compile(loss = \"binary_crossentropy\",optimizer = \"adam\",metrics = [\"accuracy\"])"
   ]
  },
  {
   "cell_type": "code",
   "execution_count": 14,
   "id": "6e9f2be3",
   "metadata": {},
   "outputs": [
    {
     "name": "stderr",
     "output_type": "stream",
     "text": [
      "C:\\Users\\Sameer Bishnoi\\AppData\\Local\\Temp\\ipykernel_13368\\69714135.py:1: UserWarning: `Model.fit_generator` is deprecated and will be removed in a future version. Please use `Model.fit`, which supports generators.\n",
      "  model.fit_generator(x_train , steps_per_epoch = 4,\n"
     ]
    },
    {
     "name": "stdout",
     "output_type": "stream",
     "text": [
      "Epoch 1/100\n",
      "4/4 [==============================] - 2s 432ms/step - loss: 0.6915 - accuracy: 0.4608 - val_loss: 0.6387 - val_accuracy: 0.5750\n",
      "Epoch 2/100\n",
      "4/4 [==============================] - 1s 224ms/step - loss: 0.6380 - accuracy: 0.6471 - val_loss: 0.5672 - val_accuracy: 0.7500\n",
      "Epoch 3/100\n",
      "4/4 [==============================] - 1s 180ms/step - loss: 0.5929 - accuracy: 0.6863 - val_loss: 0.5139 - val_accuracy: 0.7250\n",
      "Epoch 4/100\n",
      "4/4 [==============================] - 1s 173ms/step - loss: 0.5464 - accuracy: 0.7353 - val_loss: 0.4998 - val_accuracy: 0.8000\n",
      "Epoch 5/100\n",
      "4/4 [==============================] - 1s 174ms/step - loss: 0.5515 - accuracy: 0.7157 - val_loss: 0.4517 - val_accuracy: 0.7250\n",
      "Epoch 6/100\n",
      "4/4 [==============================] - 1s 217ms/step - loss: 0.4958 - accuracy: 0.7843 - val_loss: 0.4604 - val_accuracy: 0.8250\n",
      "Epoch 7/100\n",
      "4/4 [==============================] - 1s 177ms/step - loss: 0.4636 - accuracy: 0.8039 - val_loss: 0.4950 - val_accuracy: 0.8000\n",
      "Epoch 8/100\n",
      "4/4 [==============================] - 1s 226ms/step - loss: 0.4975 - accuracy: 0.7745 - val_loss: 0.3900 - val_accuracy: 0.8000\n",
      "Epoch 9/100\n",
      "4/4 [==============================] - 1s 216ms/step - loss: 0.4362 - accuracy: 0.7843 - val_loss: 0.3847 - val_accuracy: 0.8500\n",
      "Epoch 10/100\n",
      "4/4 [==============================] - 1s 216ms/step - loss: 0.4570 - accuracy: 0.8039 - val_loss: 0.4450 - val_accuracy: 0.8000\n",
      "Epoch 11/100\n",
      "4/4 [==============================] - 1s 216ms/step - loss: 0.3950 - accuracy: 0.8039 - val_loss: 0.3216 - val_accuracy: 0.8750\n",
      "Epoch 12/100\n",
      "4/4 [==============================] - 1s 177ms/step - loss: 0.3583 - accuracy: 0.8627 - val_loss: 0.3840 - val_accuracy: 0.8250\n",
      "Epoch 13/100\n",
      "4/4 [==============================] - 1s 176ms/step - loss: 0.3166 - accuracy: 0.8725 - val_loss: 0.3619 - val_accuracy: 0.8500\n",
      "Epoch 14/100\n",
      "4/4 [==============================] - 1s 182ms/step - loss: 0.3473 - accuracy: 0.8529 - val_loss: 0.6644 - val_accuracy: 0.6250\n",
      "Epoch 15/100\n",
      "4/4 [==============================] - 1s 174ms/step - loss: 0.4561 - accuracy: 0.7745 - val_loss: 0.2666 - val_accuracy: 0.9250\n",
      "Epoch 16/100\n",
      "4/4 [==============================] - 1s 219ms/step - loss: 0.6484 - accuracy: 0.6275 - val_loss: 0.2197 - val_accuracy: 0.9500\n",
      "Epoch 17/100\n",
      "4/4 [==============================] - 1s 174ms/step - loss: 0.4621 - accuracy: 0.7745 - val_loss: 0.7637 - val_accuracy: 0.5750\n",
      "Epoch 18/100\n",
      "4/4 [==============================] - 1s 177ms/step - loss: 0.4502 - accuracy: 0.7647 - val_loss: 0.2078 - val_accuracy: 0.9250\n",
      "Epoch 19/100\n",
      "4/4 [==============================] - 1s 216ms/step - loss: 0.3555 - accuracy: 0.8725 - val_loss: 0.3224 - val_accuracy: 0.8750\n",
      "Epoch 20/100\n",
      "4/4 [==============================] - 1s 170ms/step - loss: 0.3178 - accuracy: 0.8725 - val_loss: 0.2912 - val_accuracy: 0.9000\n",
      "Epoch 21/100\n",
      "4/4 [==============================] - 1s 171ms/step - loss: 0.2702 - accuracy: 0.9118 - val_loss: 0.2725 - val_accuracy: 0.9250\n",
      "Epoch 22/100\n",
      "4/4 [==============================] - 1s 177ms/step - loss: 0.2900 - accuracy: 0.9118 - val_loss: 0.1922 - val_accuracy: 0.9750\n",
      "Epoch 23/100\n",
      "4/4 [==============================] - 1s 174ms/step - loss: 0.2792 - accuracy: 0.8922 - val_loss: 0.2321 - val_accuracy: 0.9500\n",
      "Epoch 24/100\n",
      "4/4 [==============================] - 1s 174ms/step - loss: 0.2385 - accuracy: 0.8922 - val_loss: 0.2501 - val_accuracy: 0.9250\n",
      "Epoch 25/100\n",
      "4/4 [==============================] - 1s 181ms/step - loss: 0.2300 - accuracy: 0.9608 - val_loss: 0.1566 - val_accuracy: 0.9750\n",
      "Epoch 26/100\n",
      "4/4 [==============================] - 1s 177ms/step - loss: 0.1966 - accuracy: 0.9216 - val_loss: 0.3276 - val_accuracy: 0.8750\n",
      "Epoch 27/100\n",
      "4/4 [==============================] - 1s 178ms/step - loss: 0.2539 - accuracy: 0.8922 - val_loss: 0.2019 - val_accuracy: 0.9500\n",
      "Epoch 28/100\n",
      "4/4 [==============================] - 1s 178ms/step - loss: 0.2450 - accuracy: 0.9020 - val_loss: 0.1957 - val_accuracy: 0.9500\n",
      "Epoch 29/100\n",
      "4/4 [==============================] - 1s 218ms/step - loss: 0.2587 - accuracy: 0.9216 - val_loss: 0.3549 - val_accuracy: 0.8750\n",
      "Epoch 30/100\n",
      "4/4 [==============================] - 1s 176ms/step - loss: 0.2465 - accuracy: 0.9412 - val_loss: 0.1748 - val_accuracy: 0.9750\n",
      "Epoch 31/100\n",
      "4/4 [==============================] - 1s 178ms/step - loss: 0.2209 - accuracy: 0.9216 - val_loss: 0.1734 - val_accuracy: 0.9750\n",
      "Epoch 32/100\n",
      "4/4 [==============================] - 1s 177ms/step - loss: 0.2119 - accuracy: 0.9412 - val_loss: 0.3390 - val_accuracy: 0.8000\n",
      "Epoch 33/100\n",
      "4/4 [==============================] - 1s 180ms/step - loss: 0.1891 - accuracy: 0.9510 - val_loss: 0.1109 - val_accuracy: 0.9750\n",
      "Epoch 34/100\n",
      "4/4 [==============================] - 1s 172ms/step - loss: 0.1597 - accuracy: 0.9706 - val_loss: 0.2579 - val_accuracy: 0.9500\n",
      "Epoch 35/100\n",
      "4/4 [==============================] - 1s 176ms/step - loss: 0.2315 - accuracy: 0.8922 - val_loss: 0.1785 - val_accuracy: 0.9750\n",
      "Epoch 36/100\n",
      "4/4 [==============================] - 1s 174ms/step - loss: 0.1873 - accuracy: 0.9314 - val_loss: 0.0999 - val_accuracy: 0.9750\n",
      "Epoch 37/100\n",
      "4/4 [==============================] - 1s 176ms/step - loss: 0.1696 - accuracy: 0.9412 - val_loss: 0.2233 - val_accuracy: 0.9500\n",
      "Epoch 38/100\n",
      "4/4 [==============================] - 1s 181ms/step - loss: 0.1519 - accuracy: 0.9510 - val_loss: 0.0954 - val_accuracy: 0.9750\n",
      "Epoch 39/100\n",
      "4/4 [==============================] - 1s 225ms/step - loss: 0.1548 - accuracy: 0.9706 - val_loss: 0.1195 - val_accuracy: 0.9750\n",
      "Epoch 40/100\n",
      "4/4 [==============================] - 1s 204ms/step - loss: 0.1427 - accuracy: 0.9510 - val_loss: 0.1165 - val_accuracy: 0.9750\n",
      "Epoch 41/100\n",
      "4/4 [==============================] - 1s 204ms/step - loss: 0.1339 - accuracy: 0.9706 - val_loss: 0.1435 - val_accuracy: 0.9750\n",
      "Epoch 42/100\n",
      "4/4 [==============================] - 1s 176ms/step - loss: 0.1805 - accuracy: 0.9412 - val_loss: 0.0599 - val_accuracy: 0.9750\n",
      "Epoch 43/100\n",
      "4/4 [==============================] - 1s 181ms/step - loss: 0.1459 - accuracy: 0.9510 - val_loss: 0.0473 - val_accuracy: 0.9750\n",
      "Epoch 44/100\n",
      "4/4 [==============================] - 1s 221ms/step - loss: 0.1153 - accuracy: 0.9804 - val_loss: 0.1419 - val_accuracy: 0.9500\n",
      "Epoch 45/100\n",
      "4/4 [==============================] - 1s 178ms/step - loss: 0.1446 - accuracy: 0.9510 - val_loss: 0.0644 - val_accuracy: 1.0000\n",
      "Epoch 46/100\n",
      "4/4 [==============================] - 1s 174ms/step - loss: 0.1498 - accuracy: 0.9608 - val_loss: 0.0348 - val_accuracy: 1.0000\n",
      "Epoch 47/100\n",
      "4/4 [==============================] - 1s 180ms/step - loss: 0.1572 - accuracy: 0.9412 - val_loss: 0.0910 - val_accuracy: 0.9750\n",
      "Epoch 48/100\n",
      "4/4 [==============================] - 1s 214ms/step - loss: 0.1218 - accuracy: 0.9706 - val_loss: 0.0368 - val_accuracy: 1.0000\n",
      "Epoch 49/100\n",
      "4/4 [==============================] - 1s 177ms/step - loss: 0.0934 - accuracy: 0.9706 - val_loss: 0.0306 - val_accuracy: 1.0000\n",
      "Epoch 50/100\n",
      "4/4 [==============================] - 1s 181ms/step - loss: 0.1002 - accuracy: 0.9902 - val_loss: 0.0601 - val_accuracy: 0.9750\n",
      "Epoch 51/100\n",
      "4/4 [==============================] - 1s 190ms/step - loss: 0.0866 - accuracy: 0.9804 - val_loss: 0.0857 - val_accuracy: 0.9750\n",
      "Epoch 52/100\n",
      "4/4 [==============================] - 1s 226ms/step - loss: 0.0919 - accuracy: 0.9804 - val_loss: 0.0303 - val_accuracy: 1.0000\n",
      "Epoch 53/100\n",
      "4/4 [==============================] - 1s 226ms/step - loss: 0.0842 - accuracy: 0.9902 - val_loss: 0.0763 - val_accuracy: 0.9750\n",
      "Epoch 54/100\n",
      "4/4 [==============================] - 1s 185ms/step - loss: 0.1164 - accuracy: 0.9902 - val_loss: 0.0543 - val_accuracy: 1.0000\n",
      "Epoch 55/100\n",
      "4/4 [==============================] - 1s 189ms/step - loss: 0.0754 - accuracy: 0.9804 - val_loss: 0.1327 - val_accuracy: 0.9500\n",
      "Epoch 56/100\n",
      "4/4 [==============================] - 1s 178ms/step - loss: 0.1105 - accuracy: 0.9608 - val_loss: 0.0338 - val_accuracy: 1.0000\n",
      "Epoch 57/100\n",
      "4/4 [==============================] - 1s 193ms/step - loss: 0.1210 - accuracy: 0.9608 - val_loss: 0.0571 - val_accuracy: 0.9750\n",
      "Epoch 58/100\n",
      "4/4 [==============================] - 1s 184ms/step - loss: 0.0831 - accuracy: 0.9804 - val_loss: 0.0179 - val_accuracy: 1.0000\n"
     ]
    },
    {
     "name": "stdout",
     "output_type": "stream",
     "text": [
      "Epoch 59/100\n",
      "4/4 [==============================] - 1s 196ms/step - loss: 0.1462 - accuracy: 0.9412 - val_loss: 0.2962 - val_accuracy: 0.8750\n",
      "Epoch 60/100\n",
      "4/4 [==============================] - 1s 228ms/step - loss: 0.3403 - accuracy: 0.8333 - val_loss: 0.0386 - val_accuracy: 1.0000\n",
      "Epoch 61/100\n",
      "4/4 [==============================] - 1s 186ms/step - loss: 0.1834 - accuracy: 0.9314 - val_loss: 0.0345 - val_accuracy: 0.9750\n",
      "Epoch 62/100\n",
      "4/4 [==============================] - 1s 190ms/step - loss: 0.1617 - accuracy: 0.9412 - val_loss: 0.3705 - val_accuracy: 0.8750\n",
      "Epoch 63/100\n",
      "4/4 [==============================] - 1s 185ms/step - loss: 0.1861 - accuracy: 0.9020 - val_loss: 0.0374 - val_accuracy: 1.0000\n",
      "Epoch 64/100\n",
      "4/4 [==============================] - 1s 186ms/step - loss: 0.1901 - accuracy: 0.9216 - val_loss: 0.0402 - val_accuracy: 1.0000\n",
      "Epoch 65/100\n",
      "4/4 [==============================] - 1s 228ms/step - loss: 0.1653 - accuracy: 0.9314 - val_loss: 0.1018 - val_accuracy: 0.9250\n",
      "Epoch 66/100\n",
      "4/4 [==============================] - 1s 189ms/step - loss: 0.1526 - accuracy: 0.9608 - val_loss: 0.0404 - val_accuracy: 0.9750\n",
      "Epoch 67/100\n",
      "4/4 [==============================] - 1s 229ms/step - loss: 0.1081 - accuracy: 0.9804 - val_loss: 0.0210 - val_accuracy: 1.0000\n",
      "Epoch 68/100\n",
      "4/4 [==============================] - 1s 220ms/step - loss: 0.0631 - accuracy: 0.9902 - val_loss: 0.0707 - val_accuracy: 1.0000\n",
      "Epoch 69/100\n",
      "4/4 [==============================] - 1s 189ms/step - loss: 0.1201 - accuracy: 0.9412 - val_loss: 0.0204 - val_accuracy: 1.0000\n",
      "Epoch 70/100\n",
      "4/4 [==============================] - 1s 190ms/step - loss: 0.0501 - accuracy: 1.0000 - val_loss: 0.0189 - val_accuracy: 1.0000\n",
      "Epoch 71/100\n",
      "4/4 [==============================] - 1s 190ms/step - loss: 0.0543 - accuracy: 0.9902 - val_loss: 0.0253 - val_accuracy: 1.0000\n",
      "Epoch 72/100\n",
      "4/4 [==============================] - 1s 182ms/step - loss: 0.0651 - accuracy: 0.9706 - val_loss: 0.0648 - val_accuracy: 0.9750\n",
      "Epoch 73/100\n",
      "4/4 [==============================] - 1s 181ms/step - loss: 0.0696 - accuracy: 0.9902 - val_loss: 0.0396 - val_accuracy: 1.0000\n",
      "Epoch 74/100\n",
      "4/4 [==============================] - 1s 188ms/step - loss: 0.0520 - accuracy: 0.9902 - val_loss: 0.0254 - val_accuracy: 1.0000\n",
      "Epoch 75/100\n",
      "4/4 [==============================] - 1s 197ms/step - loss: 0.0557 - accuracy: 0.9804 - val_loss: 0.0215 - val_accuracy: 1.0000\n",
      "Epoch 76/100\n",
      "4/4 [==============================] - 1s 186ms/step - loss: 0.0442 - accuracy: 0.9902 - val_loss: 0.0368 - val_accuracy: 1.0000\n",
      "Epoch 77/100\n",
      "4/4 [==============================] - 1s 197ms/step - loss: 0.0353 - accuracy: 0.9902 - val_loss: 0.0237 - val_accuracy: 1.0000\n",
      "Epoch 78/100\n",
      "4/4 [==============================] - 1s 190ms/step - loss: 0.0364 - accuracy: 1.0000 - val_loss: 0.0113 - val_accuracy: 1.0000\n",
      "Epoch 79/100\n",
      "4/4 [==============================] - 1s 170ms/step - loss: 0.0356 - accuracy: 1.0000 - val_loss: 0.0106 - val_accuracy: 1.0000\n",
      "Epoch 80/100\n",
      "4/4 [==============================] - 1s 178ms/step - loss: 0.0760 - accuracy: 0.9902 - val_loss: 0.0200 - val_accuracy: 1.0000\n",
      "Epoch 81/100\n",
      "4/4 [==============================] - 1s 265ms/step - loss: 0.0405 - accuracy: 1.0000 - val_loss: 0.0169 - val_accuracy: 1.0000\n",
      "Epoch 82/100\n",
      "4/4 [==============================] - 1s 188ms/step - loss: 0.0361 - accuracy: 0.9902 - val_loss: 0.0110 - val_accuracy: 1.0000\n",
      "Epoch 83/100\n",
      "4/4 [==============================] - 1s 178ms/step - loss: 0.0521 - accuracy: 0.9902 - val_loss: 0.0103 - val_accuracy: 1.0000\n",
      "Epoch 84/100\n",
      "4/4 [==============================] - 1s 213ms/step - loss: 0.0283 - accuracy: 1.0000 - val_loss: 0.0353 - val_accuracy: 1.0000\n",
      "Epoch 85/100\n",
      "4/4 [==============================] - 1s 208ms/step - loss: 0.0456 - accuracy: 0.9804 - val_loss: 0.0090 - val_accuracy: 1.0000\n",
      "Epoch 86/100\n",
      "4/4 [==============================] - 1s 213ms/step - loss: 0.0417 - accuracy: 1.0000 - val_loss: 0.0080 - val_accuracy: 1.0000\n",
      "Epoch 87/100\n",
      "4/4 [==============================] - 1s 166ms/step - loss: 0.0418 - accuracy: 0.9902 - val_loss: 0.0143 - val_accuracy: 1.0000\n",
      "Epoch 88/100\n",
      "4/4 [==============================] - 1s 208ms/step - loss: 0.0317 - accuracy: 1.0000 - val_loss: 0.0166 - val_accuracy: 1.0000\n",
      "Epoch 89/100\n",
      "4/4 [==============================] - 1s 213ms/step - loss: 0.0325 - accuracy: 1.0000 - val_loss: 0.0075 - val_accuracy: 1.0000\n",
      "Epoch 90/100\n",
      "4/4 [==============================] - 1s 221ms/step - loss: 0.0312 - accuracy: 1.0000 - val_loss: 0.0054 - val_accuracy: 1.0000\n",
      "Epoch 91/100\n",
      "4/4 [==============================] - 1s 190ms/step - loss: 0.0235 - accuracy: 1.0000 - val_loss: 0.0098 - val_accuracy: 1.0000\n",
      "Epoch 92/100\n",
      "4/4 [==============================] - 1s 196ms/step - loss: 0.0291 - accuracy: 1.0000 - val_loss: 0.0090 - val_accuracy: 1.0000\n",
      "Epoch 93/100\n",
      "4/4 [==============================] - 1s 178ms/step - loss: 0.0224 - accuracy: 1.0000 - val_loss: 0.0072 - val_accuracy: 1.0000\n",
      "Epoch 94/100\n",
      "4/4 [==============================] - 1s 172ms/step - loss: 0.0367 - accuracy: 0.9804 - val_loss: 0.0134 - val_accuracy: 1.0000\n",
      "Epoch 95/100\n",
      "4/4 [==============================] - 1s 178ms/step - loss: 0.0211 - accuracy: 1.0000 - val_loss: 0.0183 - val_accuracy: 1.0000\n",
      "Epoch 96/100\n",
      "4/4 [==============================] - 1s 185ms/step - loss: 0.0346 - accuracy: 0.9902 - val_loss: 0.0136 - val_accuracy: 1.0000\n",
      "Epoch 97/100\n",
      "4/4 [==============================] - 1s 250ms/step - loss: 0.0223 - accuracy: 1.0000 - val_loss: 0.0099 - val_accuracy: 1.0000\n",
      "Epoch 98/100\n",
      "4/4 [==============================] - 1s 222ms/step - loss: 0.0392 - accuracy: 0.9804 - val_loss: 0.0243 - val_accuracy: 1.0000\n",
      "Epoch 99/100\n",
      "4/4 [==============================] - 1s 226ms/step - loss: 0.0268 - accuracy: 0.9902 - val_loss: 0.0070 - val_accuracy: 1.0000\n",
      "Epoch 100/100\n",
      "4/4 [==============================] - 1s 229ms/step - loss: 0.0391 - accuracy: 1.0000 - val_loss: 0.0044 - val_accuracy: 1.0000\n"
     ]
    },
    {
     "data": {
      "text/plain": [
       "<keras.callbacks.History at 0x27279f3f3d0>"
      ]
     },
     "execution_count": 14,
     "metadata": {},
     "output_type": "execute_result"
    }
   ],
   "source": [
    "model.fit_generator(x_train , steps_per_epoch = 4, \n",
    "                    epochs = 100, validation_data = x_test, \n",
    "                    validation_steps = 2)"
   ]
  },
  {
   "cell_type": "code",
   "execution_count": 15,
   "id": "a2a9238f",
   "metadata": {},
   "outputs": [],
   "source": [
    "model.save(\"LungCancer.h5\")"
   ]
  },
  {
   "cell_type": "code",
   "execution_count": null,
   "id": "d84860d1",
   "metadata": {},
   "outputs": [],
   "source": []
  }
 ],
 "metadata": {
  "kernelspec": {
   "display_name": "Python 3 (ipykernel)",
   "language": "python",
   "name": "python3"
  },
  "language_info": {
   "codemirror_mode": {
    "name": "ipython",
    "version": 3
   },
   "file_extension": ".py",
   "mimetype": "text/x-python",
   "name": "python",
   "nbconvert_exporter": "python",
   "pygments_lexer": "ipython3",
   "version": "3.9.12"
  }
 },
 "nbformat": 4,
 "nbformat_minor": 5
}
